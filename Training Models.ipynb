{
 "cells": [
  {
   "cell_type": "markdown",
   "id": "374be890",
   "metadata": {
    "id": "374be890"
   },
   "source": [
    "## 1. Setup Paths"
   ]
  },
  {
   "cell_type": "code",
   "execution_count": 10,
   "id": "26886ca4",
   "metadata": {
    "executionInfo": {
     "elapsed": 245,
     "status": "ok",
     "timestamp": 1624358573023,
     "user": {
      "displayName": "Vedran Milković",
      "photoUrl": "https://lh3.googleusercontent.com/a-/AOh14GjNDft_t-VGG3MVTjdGijrI4fVBEvZJ-Iq1M8sjuA=s64",
      "userId": "05117562789200824007"
     },
     "user_tz": -120
    },
    "id": "26886ca4"
   },
   "outputs": [],
   "source": [
    "import os"
   ]
  },
  {
   "cell_type": "code",
   "execution_count": 11,
   "id": "4e531ffc",
   "metadata": {
    "executionInfo": {
     "elapsed": 3,
     "status": "ok",
     "timestamp": 1624354848566,
     "user": {
      "displayName": "Vedran Milković",
      "photoUrl": "https://lh3.googleusercontent.com/a-/AOh14GjNDft_t-VGG3MVTjdGijrI4fVBEvZJ-Iq1M8sjuA=s64",
      "userId": "05117562789200824007"
     },
     "user_tz": -120
    },
    "id": "4e531ffc"
   },
   "outputs": [],
   "source": [
    "CUSTOM_MODEL_NAME = 'ssd_mobnet' \n",
    "PRETRAINED_MODEL_NAME = 'ssd_mobilenet_v2_fpnlite_320x320_coco17_tpu-8'\n",
    "PRETRAINED_MODEL_URL = 'http://download.tensorflow.org/models/object_detection/tf2/20200711/ssd_mobilenet_v2_fpnlite_320x320_coco17_tpu-8.tar.gz'\n",
    "TF_RECORD_SCRIPT_NAME = 'generate_tfrecord.py'\n",
    "LABEL_MAP_NAME = 'label_map.pbtxt'"
   ]
  },
  {
   "cell_type": "code",
   "execution_count": 12,
   "id": "4af1a44e",
   "metadata": {
    "executionInfo": {
     "elapsed": 238,
     "status": "ok",
     "timestamp": 1624354849715,
     "user": {
      "displayName": "Vedran Milković",
      "photoUrl": "https://lh3.googleusercontent.com/a-/AOh14GjNDft_t-VGG3MVTjdGijrI4fVBEvZJ-Iq1M8sjuA=s64",
      "userId": "05117562789200824007"
     },
     "user_tz": -120
    },
    "id": "4af1a44e"
   },
   "outputs": [],
   "source": [
    "paths = {\n",
    "    'WORKSPACE_PATH': os.path.join('Tensorflow', 'workspace'),\n",
    "    'SCRIPTS_PATH': os.path.join('Tensorflow','scripts'),\n",
    "    'APIMODEL_PATH': os.path.join('Tensorflow','models'),\n",
    "    'ANNOTATION_PATH': os.path.join('Tensorflow', 'workspace','annotations'),\n",
    "    'IMAGE_PATH': os.path.join('Tensorflow', 'workspace','images'),\n",
    "    'MODEL_PATH': os.path.join('Tensorflow', 'workspace','models'),\n",
    "    'PRETRAINED_MODEL_PATH': os.path.join('Tensorflow', 'workspace','pre-trained-models'),\n",
    "    'CHECKPOINT_PATH': os.path.join('Tensorflow', 'workspace','models',CUSTOM_MODEL_NAME),\n",
    "    'PROTOC_PATH':os.path.join('Tensorflow','protoc')\n",
    " }"
   ]
  },
  {
   "cell_type": "code",
   "execution_count": 13,
   "id": "f4e62746",
   "metadata": {
    "executionInfo": {
     "elapsed": 228,
     "status": "ok",
     "timestamp": 1624354851427,
     "user": {
      "displayName": "Vedran Milković",
      "photoUrl": "https://lh3.googleusercontent.com/a-/AOh14GjNDft_t-VGG3MVTjdGijrI4fVBEvZJ-Iq1M8sjuA=s64",
      "userId": "05117562789200824007"
     },
     "user_tz": -120
    },
    "id": "f4e62746"
   },
   "outputs": [],
   "source": [
    "files = {\n",
    "    'PIPELINE_CONFIG':os.path.join('Tensorflow', 'workspace','models', CUSTOM_MODEL_NAME, 'pipeline.config'),\n",
    "    'TF_RECORD_SCRIPT': os.path.join(paths['SCRIPTS_PATH'], TF_RECORD_SCRIPT_NAME), \n",
    "    'LABELMAP': os.path.join(paths['ANNOTATION_PATH'], LABEL_MAP_NAME)\n",
    "}"
   ]
  },
  {
   "cell_type": "code",
   "execution_count": null,
   "id": "3QTU7r1iFZOh",
   "metadata": {
    "colab": {
     "base_uri": "https://localhost:8080/"
    },
    "executionInfo": {
     "elapsed": 231,
     "status": "ok",
     "timestamp": 1624355076256,
     "user": {
      "displayName": "Vedran Milković",
      "photoUrl": "https://lh3.googleusercontent.com/a-/AOh14GjNDft_t-VGG3MVTjdGijrI4fVBEvZJ-Iq1M8sjuA=s64",
      "userId": "05117562789200824007"
     },
     "user_tz": -120
    },
    "id": "3QTU7r1iFZOh",
    "outputId": "7d6f116c-5318-4f1d-ae09-3a38ded75519"
   },
   "outputs": [],
   "source": [
    "from google.colab import drive\n",
    "drive.mount('/content/drive')"
   ]
  },
  {
   "cell_type": "code",
   "execution_count": null,
   "id": "b6780682",
   "metadata": {
    "executionInfo": {
     "elapsed": 1553,
     "status": "ok",
     "timestamp": 1624355081076,
     "user": {
      "displayName": "Vedran Milković",
      "photoUrl": "https://lh3.googleusercontent.com/a-/AOh14GjNDft_t-VGG3MVTjdGijrI4fVBEvZJ-Iq1M8sjuA=s64",
      "userId": "05117562789200824007"
     },
     "user_tz": -120
    },
    "id": "b6780682"
   },
   "outputs": [],
   "source": [
    "for path in paths.values():\n",
    "    if not os.path.exists(path):\n",
    "        if os.name == 'posix':\n",
    "            !mkdir -p {path}\n",
    "        if os.name == 'nt':\n",
    "            !mkdir {path}"
   ]
  },
  {
   "cell_type": "markdown",
   "id": "7fdc1bdf",
   "metadata": {
    "id": "7fdc1bdf"
   },
   "source": [
    "## 2. Download TF Models Pretrained Models from Tensorflow Model Zoo and Install TFOD"
   ]
  },
  {
   "cell_type": "code",
   "execution_count": null,
   "id": "478b53e1",
   "metadata": {
    "executionInfo": {
     "elapsed": 228,
     "status": "ok",
     "timestamp": 1624355103731,
     "user": {
      "displayName": "Vedran Milković",
      "photoUrl": "https://lh3.googleusercontent.com/a-/AOh14GjNDft_t-VGG3MVTjdGijrI4fVBEvZJ-Iq1M8sjuA=s64",
      "userId": "05117562789200824007"
     },
     "user_tz": -120
    },
    "id": "478b53e1"
   },
   "outputs": [],
   "source": [
    "if os.name=='nt':\n",
    "    !pip install wget\n",
    "    import wget"
   ]
  },
  {
   "cell_type": "code",
   "execution_count": null,
   "id": "3eeb9bff",
   "metadata": {
    "colab": {
     "base_uri": "https://localhost:8080/"
    },
    "executionInfo": {
     "elapsed": 19660,
     "status": "ok",
     "timestamp": 1624355124543,
     "user": {
      "displayName": "Vedran Milković",
      "photoUrl": "https://lh3.googleusercontent.com/a-/AOh14GjNDft_t-VGG3MVTjdGijrI4fVBEvZJ-Iq1M8sjuA=s64",
      "userId": "05117562789200824007"
     },
     "user_tz": -120
    },
    "id": "3eeb9bff",
    "outputId": "81966164-ec57-4857-efd9-7aa6a0008d65"
   },
   "outputs": [],
   "source": [
    "if not os.path.exists(os.path.join(paths['APIMODEL_PATH'], 'research', 'object_detection')):\n",
    "    !git clone https://github.com/tensorflow/models {paths['APIMODEL_PATH']}"
   ]
  },
  {
   "cell_type": "code",
   "execution_count": null,
   "id": "a55a8bb7",
   "metadata": {
    "colab": {
     "base_uri": "https://localhost:8080/"
    },
    "executionInfo": {
     "elapsed": 29377,
     "status": "ok",
     "timestamp": 1624355171534,
     "user": {
      "displayName": "Vedran Milković",
      "photoUrl": "https://lh3.googleusercontent.com/a-/AOh14GjNDft_t-VGG3MVTjdGijrI4fVBEvZJ-Iq1M8sjuA=s64",
      "userId": "05117562789200824007"
     },
     "user_tz": -120
    },
    "id": "a55a8bb7",
    "outputId": "e8d299de-0009-4c46-8882-65aa73f8f6d8"
   },
   "outputs": [],
   "source": [
    "# Install Tensorflow Object Detection\n",
    "if os.name=='posix':  \n",
    "    !apt-get install protobuf-compiler\n",
    "    !cd Tensorflow/models/research && protoc object_detection/protos/*.proto --python_out=. && cp object_detection/packages/tf2/setup.py . && python -m pip install . \n",
    "    \n",
    "if os.name=='nt':\n",
    "    url=\"https://github.com/protocolbuffers/protobuf/releases/download/v3.15.6/protoc-3.15.6-win64.zip\"\n",
    "    wget.download(url)\n",
    "    !move protoc-3.15.6-win64.zip {paths['PROTOC_PATH']}\n",
    "    !cd {paths['PROTOC_PATH']} && tar -xf protoc-3.15.6-win64.zip\n",
    "    os.environ['PATH'] += os.pathsep + os.path.abspath(os.path.join(paths['PROTOC_PATH'], 'bin'))   \n",
    "    !cd Tensorflow/models/research && protoc object_detection/protos/*.proto --python_out=. && copy object_detection\\\\packages\\\\tf2\\\\setup.py setup.py && python setup.py build && python setup.py install\n",
    "    !cd Tensorflow/models/research/slim && pip install -e ."
   ]
  },
  {
   "cell_type": "code",
   "execution_count": null,
   "id": "4f603197",
   "metadata": {
    "colab": {
     "base_uri": "https://localhost:8080/"
    },
    "executionInfo": {
     "elapsed": 31117,
     "status": "ok",
     "timestamp": 1624355222733,
     "user": {
      "displayName": "Vedran Milković",
      "photoUrl": "https://lh3.googleusercontent.com/a-/AOh14GjNDft_t-VGG3MVTjdGijrI4fVBEvZJ-Iq1M8sjuA=s64",
      "userId": "05117562789200824007"
     },
     "user_tz": -120
    },
    "id": "4f603197",
    "outputId": "e5076fa8-77c1-43af-9b07-54678d5742f8"
   },
   "outputs": [],
   "source": [
    "VERIFICATION_SCRIPT = os.path.join(paths['APIMODEL_PATH'], 'research', 'object_detection', 'builders', 'model_builder_tf2_test.py')\n",
    "# Verify Installation\n",
    "!python {VERIFICATION_SCRIPT}"
   ]
  },
  {
   "cell_type": "code",
   "execution_count": null,
   "id": "c2549825",
   "metadata": {
    "colab": {
     "base_uri": "https://localhost:8080/"
    },
    "executionInfo": {
     "elapsed": 2968,
     "status": "ok",
     "timestamp": 1624355229300,
     "user": {
      "displayName": "Vedran Milković",
      "photoUrl": "https://lh3.googleusercontent.com/a-/AOh14GjNDft_t-VGG3MVTjdGijrI4fVBEvZJ-Iq1M8sjuA=s64",
      "userId": "05117562789200824007"
     },
     "user_tz": -120
    },
    "id": "c2549825",
    "outputId": "74e66962-8177-48cd-eb74-56146bfd10f1"
   },
   "outputs": [],
   "source": [
    "!pip install tensorflow --upgrade"
   ]
  },
  {
   "cell_type": "code",
   "execution_count": null,
   "id": "3f441846",
   "metadata": {
    "executionInfo": {
     "elapsed": 276,
     "status": "ok",
     "timestamp": 1624355237946,
     "user": {
      "displayName": "Vedran Milković",
      "photoUrl": "https://lh3.googleusercontent.com/a-/AOh14GjNDft_t-VGG3MVTjdGijrI4fVBEvZJ-Iq1M8sjuA=s64",
      "userId": "05117562789200824007"
     },
     "user_tz": -120
    },
    "id": "3f441846"
   },
   "outputs": [],
   "source": [
    "import object_detection"
   ]
  },
  {
   "cell_type": "code",
   "execution_count": null,
   "id": "12e01018",
   "metadata": {
    "colab": {
     "base_uri": "https://localhost:8080/"
    },
    "executionInfo": {
     "elapsed": 1062,
     "status": "ok",
     "timestamp": 1624355247331,
     "user": {
      "displayName": "Vedran Milković",
      "photoUrl": "https://lh3.googleusercontent.com/a-/AOh14GjNDft_t-VGG3MVTjdGijrI4fVBEvZJ-Iq1M8sjuA=s64",
      "userId": "05117562789200824007"
     },
     "user_tz": -120
    },
    "id": "12e01018",
    "outputId": "a0c32cd8-19b7-454e-c00f-9b06a605d49d"
   },
   "outputs": [],
   "source": [
    "if os.name =='posix':\n",
    "    !wget {PRETRAINED_MODEL_URL}\n",
    "    !mv {PRETRAINED_MODEL_NAME+'.tar.gz'} {paths['PRETRAINED_MODEL_PATH']}\n",
    "    !cd {paths['PRETRAINED_MODEL_PATH']} && tar -zxvf {PRETRAINED_MODEL_NAME+'.tar.gz'}\n",
    "if os.name == 'nt':\n",
    "    wget.download(PRETRAINED_MODEL_URL)\n",
    "    !move {PRETRAINED_MODEL_NAME+'.tar.gz'} {paths['PRETRAINED_MODEL_PATH']}\n",
    "    !cd {paths['PRETRAINED_MODEL_PATH']} && tar -zxvf {PRETRAINED_MODEL_NAME+'.tar.gz'}"
   ]
  },
  {
   "cell_type": "markdown",
   "id": "b64c4fbb",
   "metadata": {
    "id": "b64c4fbb"
   },
   "source": [
    "## 3. Create Label Map"
   ]
  },
  {
   "cell_type": "code",
   "execution_count": null,
   "id": "8499f5cc",
   "metadata": {
    "executionInfo": {
     "elapsed": 234,
     "status": "ok",
     "timestamp": 1624355282524,
     "user": {
      "displayName": "Vedran Milković",
      "photoUrl": "https://lh3.googleusercontent.com/a-/AOh14GjNDft_t-VGG3MVTjdGijrI4fVBEvZJ-Iq1M8sjuA=s64",
      "userId": "05117562789200824007"
     },
     "user_tz": -120
    },
    "id": "8499f5cc"
   },
   "outputs": [],
   "source": [
    "labels = [{'name':'ThumbsUp', 'id':1}, {'name':'ThumbsDown', 'id':2}, {'name':'ThankYou', 'id':3}, {'name':'LiveLong', 'id':4}]\n",
    "\n",
    "with open(files['LABELMAP'], 'w') as f:\n",
    "    for label in labels:\n",
    "        f.write('item { \\n')\n",
    "        f.write('\\tname:\\'{}\\'\\n'.format(label['name']))\n",
    "        f.write('\\tid:{}\\n'.format(label['id']))\n",
    "        f.write('}\\n')"
   ]
  },
  {
   "cell_type": "markdown",
   "id": "571b297b",
   "metadata": {
    "id": "571b297b"
   },
   "source": [
    "## 4. Create TF records"
   ]
  },
  {
   "cell_type": "code",
   "execution_count": null,
   "id": "4040b5ad",
   "metadata": {
    "colab": {
     "base_uri": "https://localhost:8080/"
    },
    "executionInfo": {
     "elapsed": 244,
     "status": "ok",
     "timestamp": 1624356668179,
     "user": {
      "displayName": "Vedran Milković",
      "photoUrl": "https://lh3.googleusercontent.com/a-/AOh14GjNDft_t-VGG3MVTjdGijrI4fVBEvZJ-Iq1M8sjuA=s64",
      "userId": "05117562789200824007"
     },
     "user_tz": -120
    },
    "id": "4040b5ad",
    "outputId": "2b95c9f5-90ce-422d-a4b0-4c0c77c3c183"
   },
   "outputs": [],
   "source": [
    "ARCHIVE_FILES = os.path.join(paths['IMAGE_PATH'], 'rirvt.tar.gz')\n",
    "if os.path.exists(ARCHIVE_FILES):\n",
    "  !tar -zxvf {ARCHIVE_FILES}"
   ]
  },
  {
   "cell_type": "code",
   "execution_count": null,
   "id": "56508eba",
   "metadata": {
    "colab": {
     "base_uri": "https://localhost:8080/"
    },
    "executionInfo": {
     "elapsed": 587,
     "status": "ok",
     "timestamp": 1624355306690,
     "user": {
      "displayName": "Vedran Milković",
      "photoUrl": "https://lh3.googleusercontent.com/a-/AOh14GjNDft_t-VGG3MVTjdGijrI4fVBEvZJ-Iq1M8sjuA=s64",
      "userId": "05117562789200824007"
     },
     "user_tz": -120
    },
    "id": "56508eba",
    "outputId": "f4bfa7ff-6b81-42b4-e0b6-38c249da34e2"
   },
   "outputs": [],
   "source": [
    "if not os.path.exists(files['TF_RECORD_SCRIPT']):\n",
    "    !git clone https://github.com/nicknochnack/GenerateTFRecord {paths['SCRIPTS_PATH']}"
   ]
  },
  {
   "cell_type": "code",
   "execution_count": null,
   "id": "a0621f25",
   "metadata": {
    "colab": {
     "base_uri": "https://localhost:8080/"
    },
    "executionInfo": {
     "elapsed": 4716,
     "status": "ok",
     "timestamp": 1624356690350,
     "user": {
      "displayName": "Vedran Milković",
      "photoUrl": "https://lh3.googleusercontent.com/a-/AOh14GjNDft_t-VGG3MVTjdGijrI4fVBEvZJ-Iq1M8sjuA=s64",
      "userId": "05117562789200824007"
     },
     "user_tz": -120
    },
    "id": "a0621f25",
    "outputId": "e9fb5091-0241-4bb3-86f3-9a3091bf8403"
   },
   "outputs": [],
   "source": [
    "!python {files['TF_RECORD_SCRIPT']} -x {os.path.join(paths['IMAGE_PATH'], 'train')} -l {files['LABELMAP']} -o {os.path.join(paths['ANNOTATION_PATH'], 'train.record')} \n",
    "!python {files['TF_RECORD_SCRIPT']} -x {os.path.join(paths['IMAGE_PATH'], 'test')} -l {files['LABELMAP']} -o {os.path.join(paths['ANNOTATION_PATH'], 'test.record')}"
   ]
  },
  {
   "cell_type": "code",
   "execution_count": null,
   "id": "92ab9208",
   "metadata": {
    "colab": {
     "base_uri": "https://localhost:8080/"
    },
    "executionInfo": {
     "elapsed": 2449,
     "status": "ok",
     "timestamp": 1624355337385,
     "user": {
      "displayName": "Vedran Milković",
      "photoUrl": "https://lh3.googleusercontent.com/a-/AOh14GjNDft_t-VGG3MVTjdGijrI4fVBEvZJ-Iq1M8sjuA=s64",
      "userId": "05117562789200824007"
     },
     "user_tz": -120
    },
    "id": "92ab9208",
    "outputId": "19b8a682-90d8-447e-8297-403bae7d4242"
   },
   "outputs": [],
   "source": [
    "!pip install pytz"
   ]
  },
  {
   "cell_type": "markdown",
   "id": "3c572411",
   "metadata": {
    "id": "3c572411"
   },
   "source": [
    "## 5. Copy Model Config to Training Folder"
   ]
  },
  {
   "cell_type": "code",
   "execution_count": null,
   "id": "kKYPPMgNImRF",
   "metadata": {
    "executionInfo": {
     "elapsed": 755,
     "status": "ok",
     "timestamp": 1624356734157,
     "user": {
      "displayName": "Vedran Milković",
      "photoUrl": "https://lh3.googleusercontent.com/a-/AOh14GjNDft_t-VGG3MVTjdGijrI4fVBEvZJ-Iq1M8sjuA=s64",
      "userId": "05117562789200824007"
     },
     "user_tz": -120
    },
    "id": "kKYPPMgNImRF"
   },
   "outputs": [],
   "source": [
    "if os.name =='posix':\n",
    "    !cp {os.path.join(paths['PRETRAINED_MODEL_PATH'], PRETRAINED_MODEL_NAME, 'pipeline.config')} {os.path.join(paths['CHECKPOINT_PATH'])}\n",
    "if os.name == 'nt':\n",
    "    !copy {os.path.join(paths['PRETRAINED_MODEL_PATH'], PRETRAINED_MODEL_NAME, 'pipeline.config')} {os.path.join(paths['CHECKPOINT_PATH'])}"
   ]
  },
  {
   "cell_type": "markdown",
   "id": "03YCiNpFIx4d",
   "metadata": {
    "id": "03YCiNpFIx4d"
   },
   "source": [
    "## 6. Update Config For Transfer Learning"
   ]
  },
  {
   "cell_type": "code",
   "execution_count": null,
   "id": "QTorpjQzIpJZ",
   "metadata": {
    "executionInfo": {
     "elapsed": 2,
     "status": "ok",
     "timestamp": 1624356737826,
     "user": {
      "displayName": "Vedran Milković",
      "photoUrl": "https://lh3.googleusercontent.com/a-/AOh14GjNDft_t-VGG3MVTjdGijrI4fVBEvZJ-Iq1M8sjuA=s64",
      "userId": "05117562789200824007"
     },
     "user_tz": -120
    },
    "id": "QTorpjQzIpJZ"
   },
   "outputs": [],
   "source": [
    "import tensorflow as tf\n",
    "from object_detection.utils import config_util\n",
    "from object_detection.protos import pipeline_pb2\n",
    "from google.protobuf import text_format"
   ]
  },
  {
   "cell_type": "code",
   "execution_count": null,
   "id": "8WU_FEwXI2mE",
   "metadata": {
    "executionInfo": {
     "elapsed": 227,
     "status": "ok",
     "timestamp": 1624356739528,
     "user": {
      "displayName": "Vedran Milković",
      "photoUrl": "https://lh3.googleusercontent.com/a-/AOh14GjNDft_t-VGG3MVTjdGijrI4fVBEvZJ-Iq1M8sjuA=s64",
      "userId": "05117562789200824007"
     },
     "user_tz": -120
    },
    "id": "8WU_FEwXI2mE"
   },
   "outputs": [],
   "source": [
    "config = config_util.get_configs_from_pipeline_file(files['PIPELINE_CONFIG'])"
   ]
  },
  {
   "cell_type": "code",
   "execution_count": null,
   "id": "5bedcae1",
   "metadata": {
    "executionInfo": {
     "elapsed": 8,
     "status": "ok",
     "timestamp": 1624355607487,
     "user": {
      "displayName": "Vedran Milković",
      "photoUrl": "https://lh3.googleusercontent.com/a-/AOh14GjNDft_t-VGG3MVTjdGijrI4fVBEvZJ-Iq1M8sjuA=s64",
      "userId": "05117562789200824007"
     },
     "user_tz": -120
    },
    "id": "5bedcae1"
   },
   "outputs": [],
   "source": [
    "pipeline_config = pipeline_pb2.TrainEvalPipelineConfig()\n",
    "with tf.io.gfile.GFile(files['PIPELINE_CONFIG'], \"r\") as f:                                                                                                                                                                                                                     \n",
    "    proto_str = f.read()                                                                                                                                                                                                                                          \n",
    "    text_format.Merge(proto_str, pipeline_config)"
   ]
  },
  {
   "cell_type": "code",
   "execution_count": null,
   "id": "0d4ca0b4",
   "metadata": {
    "executionInfo": {
     "elapsed": 230,
     "status": "ok",
     "timestamp": 1624355616006,
     "user": {
      "displayName": "Vedran Milković",
      "photoUrl": "https://lh3.googleusercontent.com/a-/AOh14GjNDft_t-VGG3MVTjdGijrI4fVBEvZJ-Iq1M8sjuA=s64",
      "userId": "05117562789200824007"
     },
     "user_tz": -120
    },
    "id": "0d4ca0b4"
   },
   "outputs": [],
   "source": [
    "pipeline_config.model.ssd.num_classes = len(labels)\n",
    "pipeline_config.train_config.batch_size = 4\n",
    "pipeline_config.train_config.fine_tune_checkpoint = os.path.join(paths['PRETRAINED_MODEL_PATH'], PRETRAINED_MODEL_NAME, 'checkpoint', 'ckpt-0')\n",
    "pipeline_config.train_config.fine_tune_checkpoint_type = \"detection\"\n",
    "pipeline_config.train_input_reader.label_map_path= files['LABELMAP']\n",
    "pipeline_config.train_input_reader.tf_record_input_reader.input_path[:] = [os.path.join(paths['ANNOTATION_PATH'], 'train.record')]\n",
    "pipeline_config.eval_input_reader[0].label_map_path = files['LABELMAP']\n",
    "pipeline_config.eval_input_reader[0].tf_record_input_reader.input_path[:] = [os.path.join(paths['ANNOTATION_PATH'], 'test.record')]"
   ]
  },
  {
   "cell_type": "code",
   "execution_count": null,
   "id": "a01c6d98",
   "metadata": {
    "executionInfo": {
     "elapsed": 295,
     "status": "ok",
     "timestamp": 1624356763826,
     "user": {
      "displayName": "Vedran Milković",
      "photoUrl": "https://lh3.googleusercontent.com/a-/AOh14GjNDft_t-VGG3MVTjdGijrI4fVBEvZJ-Iq1M8sjuA=s64",
      "userId": "05117562789200824007"
     },
     "user_tz": -120
    },
    "id": "a01c6d98"
   },
   "outputs": [],
   "source": [
    "config_text = text_format.MessageToString(pipeline_config)                                                                                                                                                                                                        \n",
    "with tf.io.gfile.GFile(files['PIPELINE_CONFIG'], \"wb\") as f:                                                                                                                                                                                                                     \n",
    "    f.write(config_text)"
   ]
  },
  {
   "cell_type": "markdown",
   "id": "dEWrMA53I-d8",
   "metadata": {
    "id": "dEWrMA53I-d8"
   },
   "source": [
    "## 7. Train the model"
   ]
  },
  {
   "cell_type": "code",
   "execution_count": 14,
   "id": "d2a950ab",
   "metadata": {
    "executionInfo": {
     "elapsed": 228,
     "status": "ok",
     "timestamp": 1624356765173,
     "user": {
      "displayName": "Vedran Milković",
      "photoUrl": "https://lh3.googleusercontent.com/a-/AOh14GjNDft_t-VGG3MVTjdGijrI4fVBEvZJ-Iq1M8sjuA=s64",
      "userId": "05117562789200824007"
     },
     "user_tz": -120
    },
    "id": "d2a950ab"
   },
   "outputs": [],
   "source": [
    "TRAINING_SCRIPT = os.path.join(paths['APIMODEL_PATH'], 'research', 'object_detection', 'model_main_tf2.py')"
   ]
  },
  {
   "cell_type": "code",
   "execution_count": 15,
   "id": "5781c048",
   "metadata": {
    "executionInfo": {
     "elapsed": 515,
     "status": "ok",
     "timestamp": 1624356768459,
     "user": {
      "displayName": "Vedran Milković",
      "photoUrl": "https://lh3.googleusercontent.com/a-/AOh14GjNDft_t-VGG3MVTjdGijrI4fVBEvZJ-Iq1M8sjuA=s64",
      "userId": "05117562789200824007"
     },
     "user_tz": -120
    },
    "id": "5781c048"
   },
   "outputs": [],
   "source": [
    "command = \"python {} --model_dir={} --pipeline_config_path={} --num_train_steps=2000\".format(TRAINING_SCRIPT, paths['CHECKPOINT_PATH'],files['PIPELINE_CONFIG'])"
   ]
  },
  {
   "cell_type": "code",
   "execution_count": null,
   "id": "bfbab7fb",
   "metadata": {
    "colab": {
     "base_uri": "https://localhost:8080/"
    },
    "executionInfo": {
     "elapsed": 280496,
     "status": "ok",
     "timestamp": 1624357048950,
     "user": {
      "displayName": "Vedran Milković",
      "photoUrl": "https://lh3.googleusercontent.com/a-/AOh14GjNDft_t-VGG3MVTjdGijrI4fVBEvZJ-Iq1M8sjuA=s64",
      "userId": "05117562789200824007"
     },
     "user_tz": -120
    },
    "id": "bfbab7fb",
    "outputId": "698fd8b3-55b5-413c-9214-d41c2d216f5b"
   },
   "outputs": [],
   "source": [
    "!{command}"
   ]
  },
  {
   "cell_type": "markdown",
   "id": "MbeR33lIJGYs",
   "metadata": {
    "id": "MbeR33lIJGYs"
   },
   "source": [
    "## 8. Evaluate the Model"
   ]
  },
  {
   "cell_type": "code",
   "execution_count": 18,
   "id": "3b416779",
   "metadata": {
    "executionInfo": {
     "elapsed": 241,
     "status": "ok",
     "timestamp": 1624357068152,
     "user": {
      "displayName": "Vedran Milković",
      "photoUrl": "https://lh3.googleusercontent.com/a-/AOh14GjNDft_t-VGG3MVTjdGijrI4fVBEvZJ-Iq1M8sjuA=s64",
      "userId": "05117562789200824007"
     },
     "user_tz": -120
    },
    "id": "3b416779"
   },
   "outputs": [],
   "source": [
    "command = \"python {} --model_dir={} --pipeline_config_path={} --checkpoint_dir={}\".format(TRAINING_SCRIPT, paths['CHECKPOINT_PATH'],files['PIPELINE_CONFIG'], paths['CHECKPOINT_PATH'])"
   ]
  },
  {
   "cell_type": "code",
   "execution_count": 19,
   "id": "858dc0ad",
   "metadata": {},
   "outputs": [
    {
     "name": "stdout",
     "output_type": "stream",
     "text": [
      "python Tensorflow\\models\\research\\object_detection\\model_main_tf2.py --model_dir=Tensorflow\\workspace\\models\\ssd_mobnet --pipeline_config_path=Tensorflow\\workspace\\models\\ssd_mobnet\\pipeline.config --checkpoint_dir=Tensorflow\\workspace\\models\\ssd_mobnet\n"
     ]
    }
   ],
   "source": [
    "print(command)"
   ]
  },
  {
   "cell_type": "code",
   "execution_count": null,
   "id": "b8d14afb",
   "metadata": {
    "colab": {
     "base_uri": "https://localhost:8080/"
    },
    "executionInfo": {
     "elapsed": 820,
     "status": "ok",
     "timestamp": 1624357396441,
     "user": {
      "displayName": "Vedran Milković",
      "photoUrl": "https://lh3.googleusercontent.com/a-/AOh14GjNDft_t-VGG3MVTjdGijrI4fVBEvZJ-Iq1M8sjuA=s64",
      "userId": "05117562789200824007"
     },
     "user_tz": -120
    },
    "id": "b8d14afb",
    "outputId": "bb09f15f-8dce-4af0-96dc-b4189420b7d5"
   },
   "outputs": [],
   "source": [
    "!{command}"
   ]
  },
  {
   "cell_type": "markdown",
   "id": "nq6ND1DuO6lU",
   "metadata": {
    "id": "nq6ND1DuO6lU"
   },
   "source": [
    "## 9. Zip Models"
   ]
  },
  {
   "cell_type": "code",
   "execution_count": null,
   "id": "-9qnqbRFOd-M",
   "metadata": {
    "executionInfo": {
     "elapsed": 2403,
     "status": "ok",
     "timestamp": 1624357399843,
     "user": {
      "displayName": "Vedran Milković",
      "photoUrl": "https://lh3.googleusercontent.com/a-/AOh14GjNDft_t-VGG3MVTjdGijrI4fVBEvZJ-Iq1M8sjuA=s64",
      "userId": "05117562789200824007"
     },
     "user_tz": -120
    },
    "id": "-9qnqbRFOd-M"
   },
   "outputs": [],
   "source": [
    "!tar -czf models.tar.gz {paths['CHECKPOINT_PATH']}"
   ]
  }
 ],
 "metadata": {
  "accelerator": "GPU",
  "colab": {
   "collapsed_sections": [],
   "name": "Training Models.ipynb",
   "provenance": []
  },
  "kernelspec": {
   "display_name": "rirvt",
   "language": "python",
   "name": "rirvt"
  },
  "language_info": {
   "codemirror_mode": {
    "name": "ipython",
    "version": 3
   },
   "file_extension": ".py",
   "mimetype": "text/x-python",
   "name": "python",
   "nbconvert_exporter": "python",
   "pygments_lexer": "ipython3",
   "version": "3.9.5"
  }
 },
 "nbformat": 4,
 "nbformat_minor": 5
}
